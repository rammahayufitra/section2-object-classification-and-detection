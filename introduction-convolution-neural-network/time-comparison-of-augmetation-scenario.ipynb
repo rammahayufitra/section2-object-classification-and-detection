{
 "cells": [
  {
   "cell_type": "code",
   "execution_count": 54,
   "metadata": {},
   "outputs": [],
   "source": [
    "import time\n",
    "import numpy as np\n",
    "from imgaug import augmenters as iaa\n",
    "\n",
    "from torchvision import datasets \n",
    "import torch \n",
    "\n",
    "data_folder = \"../data/\"\n",
    "fmnist = datasets.FashionMNIST(data_folder, download=True, train=True)\n",
    "\n",
    "tr_images = fmnist.data.numpy()  # Convert PyTorch tensor to NumPy array\n",
    "tr_targets = fmnist.targets.numpy()  # Convert PyTorch tensor to NumPy array\n",
    "\n",
    "aug = iaa.Sequential([\n",
    "    iaa.Affine(translate_px={'x': (-10, 10)}, mode='constant'),\n",
    "])\n",
    "\n",
    "\n",
    "\n"
   ]
  },
  {
   "cell_type": "code",
   "execution_count": 55,
   "metadata": {},
   "outputs": [
    {
     "name": "stdout",
     "output_type": "stream",
     "text": [
      "CPU times: user 23.7 ms, sys: 0 ns, total: 23.7 ms\n",
      "Wall time: 23.2 ms\n"
     ]
    }
   ],
   "source": [
    "%%time \n",
    "for i in range(32):\n",
    "  aug.augment_image(tr_images[i])"
   ]
  },
  {
   "cell_type": "code",
   "execution_count": 56,
   "metadata": {},
   "outputs": [
    {
     "name": "stdout",
     "output_type": "stream",
     "text": [
      "CPU times: user 8.98 ms, sys: 3.42 ms, total: 12.4 ms\n",
      "Wall time: 11.9 ms\n"
     ]
    }
   ],
   "source": [
    "%%time\n",
    "x = aug.augment_images(tr_images[:32])\n"
   ]
  }
 ],
 "metadata": {
  "kernelspec": {
   "display_name": "venv",
   "language": "python",
   "name": "python3"
  },
  "language_info": {
   "codemirror_mode": {
    "name": "ipython",
    "version": 3
   },
   "file_extension": ".py",
   "mimetype": "text/x-python",
   "name": "python",
   "nbconvert_exporter": "python",
   "pygments_lexer": "ipython3",
   "version": "3.8.10"
  },
  "orig_nbformat": 4
 },
 "nbformat": 4,
 "nbformat_minor": 2
}
